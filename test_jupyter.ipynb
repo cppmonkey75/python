{
 "cells": [
  {
   "cell_type": "code",
   "execution_count": 3,
   "metadata": {},
   "outputs": [
    {
     "name": "stdout",
     "output_type": "stream",
     "text": [
      "need to create a container of 30\n",
      "execute for 30\n"
     ]
    }
   ],
   "source": [
    "class my_container:\n",
    "    def __init__(self,value):\n",
    "        self.value=value\n",
    "        print(f\"need to create a container of {self.value}\")\n",
    "    def execute(self):\n",
    "        print(f\"execute for {self.value}\")\n",
    "        \n",
    "my_c=my_container(30)\n",
    "my_c.execute()"
   ]
  }
 ],
 "metadata": {
  "kernelspec": {
   "display_name": "Python 3",
   "language": "python",
   "name": "python3"
  },
  "language_info": {
   "codemirror_mode": {
    "name": "ipython",
    "version": 3
   },
   "file_extension": ".py",
   "mimetype": "text/x-python",
   "name": "python",
   "nbconvert_exporter": "python",
   "pygments_lexer": "ipython3",
   "version": "3.13.0"
  }
 },
 "nbformat": 4,
 "nbformat_minor": 2
}
